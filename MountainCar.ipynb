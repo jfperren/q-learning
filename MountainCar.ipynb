{
 "cells": [
  {
   "cell_type": "code",
   "execution_count": 1,
   "metadata": {
    "scrolled": true
   },
   "outputs": [],
   "source": [
    "import gym\n",
    "from common import (\n",
    "    Discretizer,\n",
    ")\n",
    "from observers import (\n",
    "    StateAnalysisLogger,\n",
    "    WindowMetricLogger,\n",
    ")\n",
    "from solvers import (\n",
    "    DiscreteQLearningSolver\n",
    ")\n",
    "from strategies import (\n",
    "    EpsilonDecreasingStrategy\n",
    ")\n",
    "from training import (\n",
    "    QLearningTrainer,\n",
    ")"
   ]
  },
  {
   "cell_type": "markdown",
   "metadata": {},
   "source": [
    "## Setup"
   ]
  },
  {
   "cell_type": "code",
   "execution_count": 2,
   "metadata": {},
   "outputs": [
    {
     "name": "stdout",
     "output_type": "stream",
     "text": [
      "\u001b[33mWARN: gym.spaces.Box autodetected dtype as <class 'numpy.float32'>. Please provide explicit dtype.\u001b[0m\n"
     ]
    },
    {
     "name": "stderr",
     "output_type": "stream",
     "text": [
      "/Users/julienperrenoud/anaconda3/envs/rl/lib/python3.6/site-packages/gym/envs/registration.py:14: PkgResourcesDeprecationWarning: Parameters to load are deprecated.  Call .resolve and .require separately.\n",
      "  result = entry_point.load(False)\n"
     ]
    }
   ],
   "source": [
    "# 1. Create environment\n",
    "env = gym.make('MountainCar-v0')"
   ]
  },
  {
   "cell_type": "code",
   "execution_count": 3,
   "metadata": {},
   "outputs": [],
   "source": [
    "# 2. Discretize space\n",
    "discretizer = Discretizer(env, [0.1, 0.01])"
   ]
  },
  {
   "cell_type": "code",
   "execution_count": 4,
   "metadata": {},
   "outputs": [],
   "source": [
    "# 2. Setup Solver & Strategy\n",
    "solver = DiscreteQLearningSolver(\n",
    "    env=env,\n",
    "    discretizer=discretizer,\n",
    "    learning_rate=0.1,\n",
    "    discount=0.9,\n",
    ")\n",
    "strategy = EpsilonDecreasingStrategy(epsilon=0.2)"
   ]
  },
  {
   "cell_type": "code",
   "execution_count": 5,
   "metadata": {},
   "outputs": [],
   "source": [
    "# 3. Add Observers\n",
    "mean_reward_logger = WindowMetricLogger(window_size=100, metric='reward')\n",
    "state_analysis = StateAnalysisLogger(env=env, discretizer=discretizer, frequency=100)"
   ]
  },
  {
   "cell_type": "code",
   "execution_count": 6,
   "metadata": {},
   "outputs": [],
   "source": [
    "# 4. Put it all together\n",
    "model = QLearningTrainer(\n",
    "    env=env, \n",
    "    solver=solver,\n",
    "    strategy=strategy,\n",
    "    observers=[\n",
    "        mean_reward_logger,\n",
    "        state_analysis\n",
    "    ]\n",
    ")"
   ]
  },
  {
   "cell_type": "markdown",
   "metadata": {},
   "source": [
    "## Model Training / Evaluation"
   ]
  },
  {
   "cell_type": "code",
   "execution_count": 7,
   "metadata": {
    "scrolled": true
   },
   "outputs": [
    {
     "name": "stdout",
     "output_type": "stream",
     "text": [
      "Epoch: 0 | Window reward: -200.0\n",
      "Visitation Pct: 0.03508771929824561\n",
      "Epoch: 100 | Window reward: -200.0\n",
      "Visitation Pct: 0.44912280701754387\n",
      "Epoch: 200 | Window reward: -200.0\n",
      "Visitation Pct: 0.5824561403508772\n",
      "Epoch: 300 | Window reward: -200.0\n",
      "Visitation Pct: 0.6035087719298246\n",
      "Epoch: 400 | Window reward: -200.0\n",
      "Visitation Pct: 0.712280701754386\n",
      "Epoch: 500 | Window reward: -199.75\n",
      "Visitation Pct: 0.7368421052631579\n",
      "Epoch: 600 | Window reward: -199.83\n",
      "Visitation Pct: 0.7508771929824561\n",
      "Epoch: 700 | Window reward: -195.33\n",
      "Visitation Pct: 0.7649122807017544\n",
      "Epoch: 800 | Window reward: -198.65\n",
      "Visitation Pct: 0.7649122807017544\n",
      "Epoch: 900 | Window reward: -196.75\n",
      "Visitation Pct: 0.7684210526315789\n"
     ]
    }
   ],
   "source": [
    "model.train(episodes=1000)"
   ]
  },
  {
   "cell_type": "code",
   "execution_count": 8,
   "metadata": {},
   "outputs": [],
   "source": [
    "model.render()"
   ]
  },
  {
   "cell_type": "code",
   "execution_count": 9,
   "metadata": {},
   "outputs": [],
   "source": [
    "model.close()"
   ]
  },
  {
   "cell_type": "code",
   "execution_count": null,
   "metadata": {},
   "outputs": [],
   "source": []
  }
 ],
 "metadata": {
  "kernelspec": {
   "display_name": "Python [conda env:rl]",
   "language": "python",
   "name": "conda-env-rl-py"
  },
  "language_info": {
   "codemirror_mode": {
    "name": "ipython",
    "version": 3
   },
   "file_extension": ".py",
   "mimetype": "text/x-python",
   "name": "python",
   "nbconvert_exporter": "python",
   "pygments_lexer": "ipython3",
   "version": "3.6.8"
  }
 },
 "nbformat": 4,
 "nbformat_minor": 2
}
